{
 "cells": [
  {
   "cell_type": "markdown",
   "metadata": {
    "id": "ISr45HAPh1Xq"
   },
   "source": [
    "# Portfolio Activity: Update a file through a Python algorithm"
   ]
  },
  {
   "cell_type": "markdown",
   "metadata": {
    "id": "HdFNekAJFr_Z"
   },
   "source": [
    "## Introduction\n",
    "\n",
    "The lab environment used is a Python notebook-based coding environment stored as an`.ipynb` file. \n",
    "\n",
    "An `.ipynb` file is a Python notebook file which contains the notebook code cells, markdown code cells, the execution results of the code cells and other internal settings in a specific format on the `Jupyter` environment.\n",
    "\n",
    "Notebooks, such as this one, consist of two types of cells: \n",
    "1. **markdown** cells. \n",
    "2. **code** cells for writing and running Python code.\n",
    "\n",
    "Markdown cells allow you to write plain text and format it in the markdown language. Markdown language is used for formatting plain text in text editors and code editors. For example, you can use markdown to make headers, bold or italicize words, format text as code, add hyperlinks, and more.\n",
    "\n",
    "This notebook lists the steps needed to create an algorithm that uses Python code to check whether the allow list contains any IP addresses identified on the remove list. If so, you should remove those IP addresses from the file containing the allow list."
   ]
  },
  {
   "cell_type": "markdown",
   "metadata": {
    "id": "A8q3M1L7isIj"
   },
   "source": [
    "## Scenario\n",
    "You are a security professional working at a health care company. As part of your job, you're required to regularly update a file that identifies the employees who can access restricted content. The contents of the file are based on who is working with personal patient records. Employees are restricted access based on their IP address. \n",
    "\n",
    "There is an allow list for IP addresses permitted to sign into the restricted subnetwork. There's also a remove list that identifies which employees you must remove from this allow list.\n",
    "\n",
    "\n",
    "Note that running the code in task 1-3 will produce an error because it will only contain the fragments of code that will need to be run all at once in a single code cell; you'll complete this with statement in the task after this.\n",
    "\n",
    "For that reason, the code will be broken down into steps and placed together at the end to be run.\n"
   ]
  },
  {
   "cell_type": "markdown",
   "metadata": {
    "id": "AWlxxB0Xr0V4"
   },
   "source": [
    "## Task 1: Open the file that contains the allow list\n",
    "\n",
    "The code to use for this task is as follows:\n",
    "\n",
    "```\n",
    "import_file = “allow_list.txt”\n",
    "\n",
    "with open(import_file, “r”) as file:\n",
    "```\n",
    "\n",
    "----\n",
    "\n",
    "The variable `import_file` is created as a placeholder to hold the value of `\"allow_list.txt\"`, the filename of the file we would to open. \n",
    "\n",
    "A `with` statement starting with the keyword `with` is used to open a resource  (in this case, the resource is the file we want to open) and guarantee that the resource will be closed when the `with` code block whether it completes successfully or not.\n",
    "\n",
    "The `open()` function will do the action of opening the file and return the opened file as a file object.\n",
    "    It takes two arguments in the following order, `import_file` for the file object to open and the string `\"r\"` to specify the file is opened for **reading**.\n",
    "\n",
    "\n",
    "The variable `file` will be used to store contents of the `import_file` value to perform file based methods within the `with` statement code block.\n",
    "\n",
    "\n",
    " Note that running this code will produce an error because it will only contain the first line of the with statement; you'll complete this with statement in the task after this."
   ]
  },
  {
   "cell_type": "code",
   "execution_count": null,
   "metadata": {
    "scrolled": true
   },
   "outputs": [],
   "source": [
    "# Assign import_file as filename we want to read the allow list from \n",
    "\n",
    "import_file = \"allow_list.txt\"\n",
    "\n",
    "# Open the file that contains the allow list\n",
    "\n",
    "with open(import_file, \"r\") as file:"
   ]
  },
  {
   "cell_type": "markdown",
   "metadata": {
    "id": "fWABkwmIsQpl"
   },
   "source": [
    "## Task 2 - Read the file contents\n"
   ]
  },
  {
   "cell_type": "markdown",
   "metadata": {},
   "source": [
    "Next, the `.read()` method will be invoked with the `file` object created with the `as` keyword to the save the contents of the IP address allow list as a string so that the data from the file can be read and used."
   ]
  },
  {
   "cell_type": "code",
   "execution_count": null,
   "metadata": {
    "id": "yzRWbO4vvH-0",
    "scrolled": true
   },
   "outputs": [],
   "source": [
    "# Read the file contents and convert to string to store in ip_addresses.\n",
    "\n",
    "ip_addresses = file.read() "
   ]
  },
  {
   "cell_type": "markdown",
   "metadata": {
    "id": "YvpJZapvtYZh"
   },
   "source": [
    "## Task 3 - Convert the string into a list\n",
    "\n",
    "The next step is to convert the data type of our ip_addresses placeholder from a string object into a list object. This is so we will be able to remove IP addresses from the allow list.\n",
    "\n",
    "\n"
   ]
  },
  {
   "cell_type": "code",
   "execution_count": null,
   "metadata": {
    "id": "2PO1ZVqXsFMq",
    "scrolled": true
   },
   "outputs": [],
   "source": [
    "# Convert the ip_addresses string object into a list object\n",
    "\n",
    "ip_addresses = ip_addresses.split()"
   ]
  },
  {
   "cell_type": "markdown",
   "metadata": {
    "id": "G4VnoDtvzulR"
   },
   "source": [
    "## Task 4 - Iterate through the remove list\n",
    "\n",
    "A second list called `remove_list` contains all of the IP addresses that should be removed from the `ip_addresses` list. \n",
    "\n",
    "The next step is to set up the header of the `for` loop that will iterate through the `remove_list` using `element` as the loop variable. The keyword we need for this is `for` to signal the beginning the `for` loop and the `in` keyword to specify iterating through the sequence of elements in the `remove_list` list. \n",
    "\n",
    "I added an variable called `removal_counter` to count the number of removal operations done on the IP address allow list.\n"
   ]
  },
  {
   "cell_type": "code",
   "execution_count": null,
   "metadata": {
    "id": "fpjLod8C741T",
    "scrolled": true
   },
   "outputs": [],
   "source": [
    "# Declare the remove_list list object with the IP addresses to be removed.\n",
    "\n",
    "remove_list = [\"192.168.116.187\", \"192.168.15.110\", \"192.168.39.246\"]\n",
    "\n",
    "\n",
    "# Iterate through each IP address in the IP address remove list \n",
    "\n",
    "removal_counter = 0\n",
    "\n",
    "# for loop header \n",
    "for element in remove_list:\n"
   ]
  },
  {
   "cell_type": "markdown",
   "metadata": {
    "id": "iWY3SYYq12O_"
   },
   "source": [
    "## Task 5 - Remove IP addresses that are on the remove list\n",
    "\n",
    "After setting up the for loop header to traverse the `remove_list` list. The `for` loop body code was added:\n",
    "\n",
    "- An `if` conditional statement is used to check if each `element` in the `remove_list` is in the `ip_addresses` list\n",
    "    - If the IP address is found, we pass the `element` variable by into the `.remove()` method for the `ip_addresses` list.\n",
    "    - A `print()` statement is used to show the value of IP address with a confirmation message it is removed as well as a statement to increment the `removal_counter` variable by one.\n",
    "- An `else` conditional statement is used to print a message if a IP address in the `remove_list` is not found in the `allow_list`.\n",
    "\n",
    "A final `print()` statement is used to print a string message with the total value of the `removal_counter` variable to show how many IP addreses were removed. the built-in function `str()` is used to convert the `removal_counter` datatype from integer to a string.\n"
   ]
  },
  {
   "cell_type": "code",
   "execution_count": null,
   "metadata": {
    "id": "qyZU97NFPFIr",
    "scrolled": true
   },
   "outputs": [],
   "source": [
    "  # check if loop variable is part of the ip_addresses list object and remove it\n",
    "    if element in ip_addresses: \n",
    "        ip_addresses.remove(element)\n",
    "        print(\"IP address: \" + element + \", found and removed\")\n",
    "        removal_counter = removal_counter + 1\n",
    "\n",
    "    # conditional statement if no IP addresses were found or removed during iteration.\n",
    "    else:\n",
    "        print(\"IP address: \" + element + \", is not in the allow list.\")\n",
    "\n",
    "print(\"Total number of IP addresses removed: \" + str(removal_counter))\n"
   ]
  },
  {
   "cell_type": "markdown",
   "metadata": {
    "id": "UfTDplmy2ljG"
   },
   "source": [
    "## Task 6 - Update the import_file with the revised list of IP addresses."
   ]
  },
  {
   "cell_type": "markdown",
   "metadata": {},
   "source": [
    "The following code needed to update the `import_file` object is to update and convert ip_addresses from a list back into a string object using the the new line operator string `\\n` and the `.join()` with the `ip_addresses` passed into the `.join()` method as argument.\n",
    "\n",
    "The new portion of code needed is to run the open() function on the\n",
    "`import_file` with the second argument of `\"w\"` to specify that a write operation is going to be done on the `import_file` as the file object called `file`.\n",
    "\n",
    "`file.write(ip_addresses)` is used take the new line formatted contents of the string `ip_addresses` and write it to the `import_file` file object.\n",
    "\n",
    "\n",
    "The following print statements,\n",
    "\n",
    "  `print(\"\\nIP address allow list parsing complete.\")`\n",
    "   \n",
    "  `print(\"-----------------\\n\" + ip_addresses + \"\\n-----------------\")`\n",
    "\n",
    "\n",
    "outputs the contents of\n",
    "the `ip_addresses` as it will be shown in the `import_file`"
   ]
  },
  {
   "cell_type": "code",
   "execution_count": null,
   "metadata": {
    "id": "ZeZwER1PZQb8",
    "scrolled": true
   },
   "outputs": [],
   "source": [
    "# Convert the ip_addresses list back into a string and printing the output \n",
    "# using the .join() method with each element separated by a new line \n",
    "ip_addresses = \"\\n\".join(ip_addresses)\n",
    "\n",
    "# Open the import_file to perform a write operation on it\n",
    "with open(import_file, \"w\") as file:\n",
    "\n",
    "    file.write(ip_addresses) \n",
    "\n",
    "    print(\"\\nIP address allow list parsing complete.\")\n",
    "\n",
    "    print(\"-----------------\\n\" + ip_addresses + \"\\n-----------------\")"
   ]
  },
  {
   "cell_type": "markdown",
   "metadata": {
    "id": "MDMg3gx-9VZu"
   },
   "source": [
    "## Task 7 - Entire code algorithm to compile \n",
    "\n",
    "To run the code, run the code cell or block with the filename or path matching in the same Jupyter Notebook environment or the development environment of your choice.\n",
    "\n",
    "note: If no path is specified, it is assumed the text file is in the same directory as your python file that is executed with this script."
   ]
  },
  {
   "cell_type": "code",
   "execution_count": 6,
   "metadata": {
    "id": "m5DtyeMZsOmZ",
    "scrolled": false
   },
   "outputs": [
    {
     "name": "stdout",
     "output_type": "stream",
     "text": [
      "IP address: 192.168.116.187, is not in the allow list.\n",
      "IP address: 192.168.15.110, is not in the allow list.\n",
      "IP address: 192.168.39.246, is not in the allow list.\n",
      "Total number of IP addresses removed: 0\n",
      "\n",
      "IP address allowlist parsing complete.\n",
      "-----------------\n",
      "192.168.218.160\n",
      "192.168.97.225\n",
      "192.168.145.158\n",
      "192.168.108.13\n",
      "192.168.60.153\n",
      "192.168.96.200\n",
      "192.168.247.153\n",
      "192.168.3.252\n",
      "-----------------\n"
     ]
    }
   ],
   "source": [
    "#Assign import_file as filename or filename path we want to read the allow list from \n",
    "\n",
    "import_file = \"allow_list.txt\"\n",
    "\n",
    "# Open the file that contains the allow list\n",
    "\n",
    "with open(import_file, \"r\") as file:\n",
    "\n",
    "    # Read the file contents and convert to string to store in ip_addresses.\n",
    "\n",
    "    ip_addresses = file.read()\n",
    "\n",
    "    # Convert the ip_addresses string object into a list object\n",
    "\n",
    "    ip_addresses = ip_addresses.split() \n",
    "\n",
    "\n",
    "# Declare the remove_list list object with the IP addresses to be removed.\n",
    "\n",
    "remove_list = [\"192.168.116.187\", \"192.168.15.110\", \"192.168.39.246\"]\n",
    "\n",
    "\n",
    "# Iterate through each IP address in the IP address remove list \n",
    "\n",
    "removal_counter = 0\n",
    "\n",
    "# for loop header \n",
    "for element in remove_list:\n",
    "\n",
    "    # check if loop variable is part of the ip_addresses list object and remove it\n",
    "    if element in ip_addresses: \n",
    "        ip_addresses.remove(element)\n",
    "        print(\"IP address: \" + element + \", found and removed\")\n",
    "        removal_counter = removal_counter + 1\n",
    "\n",
    "    # conditional statement if no IP addresses were found or removed during iteration.\n",
    "    else:\n",
    "        print(\"IP address: \" + element + \", is not in the allow list.\")\n",
    "\n",
    "print(\"Total number of IP addresses removed: \" + str(removal_counter))\n",
    "\n",
    "\n",
    "# Update the import_file with the revised list of IP addresses.\n",
    "\n",
    "# Convert the ip_addresses list back into a string and printing the output \n",
    "# using the .join() method with each element separated by a new line \n",
    "ip_addresses = \"\\n\".join(ip_addresses)\n",
    "\n",
    "\n",
    "with open(import_file, \"w\") as file:\n",
    "\n",
    "    file.write(ip_addresses) \n",
    "\n",
    "    print(\"\\nIP address allowlist parsing complete.\")\n",
    "\n",
    "    print(\"-----------------\\n\" + ip_addresses + \"\\n-----------------\")\n"
   ]
  },
  {
   "cell_type": "markdown",
   "metadata": {},
   "source": [
    "# Task 8 - Reset import_file contents \n",
    "\n",
    "\n",
    "Running this code cell resets the `\"allow_list.txt\"` file to its original contents in case the file has been changed and for demonstration purposes for further tinkering of the file parse script.\n"
   ]
  },
  {
   "cell_type": "code",
   "execution_count": 7,
   "metadata": {
    "scrolled": true
   },
   "outputs": [
    {
     "name": "stdout",
     "output_type": "stream",
     "text": [
      "allow_list.txt file reset for demo purposes\n"
     ]
    }
   ],
   "source": [
    "import_file = \"\"\"192.168.218.160 192.168.97.225 192.168.145.158 192.168.108.13 192.168.60.153 192.168.96.200 192.168.247.153 192.168.3.252 192.168.116.187 192.168.15.110 192.168.39.246\"\"\"\n",
    "\n",
    "# Writes `import_file` to the `\"allow_list.txt\"` file and displays confirmation output\n",
    "with open(\"allow_list.txt\", \"w\") as file:\n",
    "    file.write(import_file)\n",
    "    print(\"allow_list.txt file reset for demo purposes\")"
   ]
  },
  {
   "cell_type": "markdown",
   "metadata": {
    "id": "ru2ytGBLCh4q"
   },
   "source": [
    "## Conclusion\n",
    "\n",
    "**What are your key takeaways from this lab?**"
   ]
  },
  {
   "cell_type": "markdown",
   "metadata": {
    "id": "2mzUW_1SH0E0"
   },
   "source": [
    "This script is an algorithm that checks whether an allow list text file contains any IP addresses identified on the remove list. If so, the IP addresses are removed from the file containing the allow list.\n",
    "\n",
    "I went above and beyond and added the following:\n",
    "\n",
    "    - Functionality to track the the number of IP Address removals\n",
    "    - Confirmation output to show script actions performed\n",
    "    - Logic to show different output if no IP addresses entered in the remove list aren't present in the IP address allow list \n",
    "\n",
    "In Python, a `with` statement is often used with the `open()` function for file handling operations\n",
    "The `open()` function takes two parameters, the name of the file you want to perform an action on and single letter string describing the action you want to perform on the specified file in the first argument.\n",
    "\n",
    "- There are three inputs that can be entered as the second argument of the `open()` function:\n",
    "\n",
    "    - The `\"r\"` string indicates a file is being opened for file reading actions.\n",
    "    - The `\"w\"` string indicates a file is being opened for file writing actions.\n",
    "    - The `\"a\"` string indicates a file is being opened for appending content to the end of a specified file.\n",
    "\n",
    "- The `as` keyword is used to assign the file object returned by the `open()` function to a variable (e.g. file)\n",
    "\n",
    "- The `.read()` method is used to read data from a file object\n",
    "\n",
    "- The `.write()` method is used to write data to a file object.\n"
   ]
  }
 ],
 "metadata": {
  "colab": {
   "provenance": [],
   "toc_visible": true
  },
  "kernelspec": {
   "display_name": "Python 3",
   "language": "python",
   "name": "python3"
  },
  "language_info": {
   "codemirror_mode": {
    "name": "ipython",
    "version": 3
   },
   "file_extension": ".py",
   "mimetype": "text/x-python",
   "name": "python",
   "nbconvert_exporter": "python",
   "pygments_lexer": "ipython3",
   "version": "3.7.6"
  }
 },
 "nbformat": 4,
 "nbformat_minor": 1
}
